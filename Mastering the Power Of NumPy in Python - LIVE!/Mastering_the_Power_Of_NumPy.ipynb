{
  "nbformat": 4,
  "nbformat_minor": 0,
  "metadata": {
    "colab": {
      "provenance": []
    },
    "kernelspec": {
      "name": "python3",
      "display_name": "Python 3"
    },
    "language_info": {
      "name": "python"
    }
  },
  "cells": [
    {
      "cell_type": "code",
      "execution_count": 1,
      "metadata": {
        "id": "CxVa1VX7z_Vc"
      },
      "outputs": [],
      "source": [
        "import numpy as np"
      ]
    },
    {
      "cell_type": "markdown",
      "source": [
        "Understanding of 1D, 2D and 3D array in numpy"
      ],
      "metadata": {
        "id": "2BLy2mfKIixz"
      }
    },
    {
      "cell_type": "code",
      "source": [
        "arr = np.array([1, 3, 4, 7, 9])"
      ],
      "metadata": {
        "id": "IG5lGRWaEk6I"
      },
      "execution_count": 2,
      "outputs": []
    },
    {
      "cell_type": "code",
      "source": [
        "arr"
      ],
      "metadata": {
        "colab": {
          "base_uri": "https://localhost:8080/"
        },
        "id": "RrOeVosQEwu5",
        "outputId": "98888485-2474-4a59-e470-26ab3932c4a1"
      },
      "execution_count": 3,
      "outputs": [
        {
          "output_type": "execute_result",
          "data": {
            "text/plain": [
              "array([1, 3, 4, 7, 9])"
            ]
          },
          "metadata": {},
          "execution_count": 3
        }
      ]
    },
    {
      "cell_type": "code",
      "source": [
        "type(arr)"
      ],
      "metadata": {
        "colab": {
          "base_uri": "https://localhost:8080/"
        },
        "id": "WTUaBhHYExPP",
        "outputId": "4adcf59b-724c-4869-9569-a65dc8194abc"
      },
      "execution_count": 4,
      "outputs": [
        {
          "output_type": "execute_result",
          "data": {
            "text/plain": [
              "numpy.ndarray"
            ]
          },
          "metadata": {},
          "execution_count": 4
        }
      ]
    },
    {
      "cell_type": "code",
      "source": [
        "arr.ndim"
      ],
      "metadata": {
        "colab": {
          "base_uri": "https://localhost:8080/"
        },
        "id": "qcdVLB5LF95n",
        "outputId": "605d8b9c-6a05-4dad-a2e2-de333a6594cf"
      },
      "execution_count": 13,
      "outputs": [
        {
          "output_type": "execute_result",
          "data": {
            "text/plain": [
              "1"
            ]
          },
          "metadata": {},
          "execution_count": 13
        }
      ]
    },
    {
      "cell_type": "code",
      "source": [
        "arr.shape"
      ],
      "metadata": {
        "colab": {
          "base_uri": "https://localhost:8080/"
        },
        "id": "0HUvJ72tGIOK",
        "outputId": "4720ac3f-b85b-44ae-b90e-7994e0f14fcf"
      },
      "execution_count": 15,
      "outputs": [
        {
          "output_type": "execute_result",
          "data": {
            "text/plain": [
              "(5,)"
            ]
          },
          "metadata": {},
          "execution_count": 15
        }
      ]
    },
    {
      "cell_type": "code",
      "source": [
        "arr2 = np.array([[1, 3], [4, 7]])"
      ],
      "metadata": {
        "id": "q8aN4bwqE18O"
      },
      "execution_count": 5,
      "outputs": []
    },
    {
      "cell_type": "code",
      "source": [
        "arr2"
      ],
      "metadata": {
        "colab": {
          "base_uri": "https://localhost:8080/"
        },
        "id": "SjWVkvn9FERn",
        "outputId": "5b97c6d5-670e-4de0-f631-6a2f969e61a4"
      },
      "execution_count": 6,
      "outputs": [
        {
          "output_type": "execute_result",
          "data": {
            "text/plain": [
              "array([[1, 3],\n",
              "       [4, 7]])"
            ]
          },
          "metadata": {},
          "execution_count": 6
        }
      ]
    },
    {
      "cell_type": "code",
      "source": [
        "type(arr2)"
      ],
      "metadata": {
        "colab": {
          "base_uri": "https://localhost:8080/"
        },
        "id": "noqN2kzBFE9A",
        "outputId": "533ff314-1f7c-414f-eb1c-d78848f07b8f"
      },
      "execution_count": 7,
      "outputs": [
        {
          "output_type": "execute_result",
          "data": {
            "text/plain": [
              "numpy.ndarray"
            ]
          },
          "metadata": {},
          "execution_count": 7
        }
      ]
    },
    {
      "cell_type": "code",
      "source": [
        "arr2.shape"
      ],
      "metadata": {
        "colab": {
          "base_uri": "https://localhost:8080/"
        },
        "id": "LjxsZLSxGMCu",
        "outputId": "a1470ada-d85b-477a-902e-d5087fdf6ca7"
      },
      "execution_count": 16,
      "outputs": [
        {
          "output_type": "execute_result",
          "data": {
            "text/plain": [
              "(2, 2)"
            ]
          },
          "metadata": {},
          "execution_count": 16
        }
      ]
    },
    {
      "cell_type": "code",
      "source": [
        "arr2.ndim"
      ],
      "metadata": {
        "colab": {
          "base_uri": "https://localhost:8080/"
        },
        "id": "bpDefdvxF7GK",
        "outputId": "66c4aff2-bf3c-4df7-9d6c-e6cdac364823"
      },
      "execution_count": 12,
      "outputs": [
        {
          "output_type": "execute_result",
          "data": {
            "text/plain": [
              "2"
            ]
          },
          "metadata": {},
          "execution_count": 12
        }
      ]
    },
    {
      "cell_type": "code",
      "source": [
        "arr3 = np.array([[[1, 3], [4, 7]], [[2,4],[5,7]]])\n",
        "arr3"
      ],
      "metadata": {
        "colab": {
          "base_uri": "https://localhost:8080/"
        },
        "id": "n7CNFx9XFGg_",
        "outputId": "3878a579-7181-408b-934b-368f540b83fd"
      },
      "execution_count": 8,
      "outputs": [
        {
          "output_type": "execute_result",
          "data": {
            "text/plain": [
              "array([[[1, 3],\n",
              "        [4, 7]],\n",
              "\n",
              "       [[2, 4],\n",
              "        [5, 7]]])"
            ]
          },
          "metadata": {},
          "execution_count": 8
        }
      ]
    },
    {
      "cell_type": "code",
      "source": [
        "type(arr3)"
      ],
      "metadata": {
        "colab": {
          "base_uri": "https://localhost:8080/"
        },
        "id": "EheGQF48Fi3Q",
        "outputId": "f569cfa4-ad3f-4027-c1c9-c569792660af"
      },
      "execution_count": 9,
      "outputs": [
        {
          "output_type": "execute_result",
          "data": {
            "text/plain": [
              "numpy.ndarray"
            ]
          },
          "metadata": {},
          "execution_count": 9
        }
      ]
    },
    {
      "cell_type": "code",
      "source": [
        "arr3.ndim"
      ],
      "metadata": {
        "colab": {
          "base_uri": "https://localhost:8080/"
        },
        "id": "1ygBDNRkFk6u",
        "outputId": "a12ed79c-f878-4dcd-9773-d5f999607875"
      },
      "execution_count": 11,
      "outputs": [
        {
          "output_type": "execute_result",
          "data": {
            "text/plain": [
              "3"
            ]
          },
          "metadata": {},
          "execution_count": 11
        }
      ]
    },
    {
      "cell_type": "code",
      "source": [
        "arr3.shape"
      ],
      "metadata": {
        "colab": {
          "base_uri": "https://localhost:8080/"
        },
        "id": "uy0HE3puFvXU",
        "outputId": "e9b0ddd7-4ead-4605-b441-4cf4e4c47cc8"
      },
      "execution_count": 14,
      "outputs": [
        {
          "output_type": "execute_result",
          "data": {
            "text/plain": [
              "(2, 2, 2)"
            ]
          },
          "metadata": {},
          "execution_count": 14
        }
      ]
    },
    {
      "cell_type": "code",
      "source": [
        "arr4 = np.array([[[1, 3], [4, 7]], [[2,4],[5,7]], [[2,6],[4,7]]])\n",
        "arr4"
      ],
      "metadata": {
        "colab": {
          "base_uri": "https://localhost:8080/"
        },
        "id": "sDXj2gWjGGK3",
        "outputId": "591aeb32-a6f9-4e72-9f1c-f6aeec2d1d08"
      },
      "execution_count": 18,
      "outputs": [
        {
          "output_type": "execute_result",
          "data": {
            "text/plain": [
              "array([[[1, 3],\n",
              "        [4, 7]],\n",
              "\n",
              "       [[2, 4],\n",
              "        [5, 7]],\n",
              "\n",
              "       [[2, 6],\n",
              "        [4, 7]]])"
            ]
          },
          "metadata": {},
          "execution_count": 18
        }
      ]
    },
    {
      "cell_type": "code",
      "source": [
        "arr4.shape"
      ],
      "metadata": {
        "colab": {
          "base_uri": "https://localhost:8080/"
        },
        "id": "ExZbkDyKGw7v",
        "outputId": "dfee5c78-1792-4e38-fed6-f66c2749db7d"
      },
      "execution_count": 19,
      "outputs": [
        {
          "output_type": "execute_result",
          "data": {
            "text/plain": [
              "(3, 2, 2)"
            ]
          },
          "metadata": {},
          "execution_count": 19
        }
      ]
    },
    {
      "cell_type": "markdown",
      "source": [
        "Difference between the functionalities of arange and linspace function in numpy"
      ],
      "metadata": {
        "id": "StX1W_f2Ib_C"
      }
    },
    {
      "cell_type": "code",
      "source": [
        "np.arange(1,9)"
      ],
      "metadata": {
        "colab": {
          "base_uri": "https://localhost:8080/"
        },
        "id": "eT9DDOcnHCEh",
        "outputId": "513e2210-f153-407a-df09-9d855ce7f6d8"
      },
      "execution_count": 20,
      "outputs": [
        {
          "output_type": "execute_result",
          "data": {
            "text/plain": [
              "array([1, 2, 3, 4, 5, 6, 7, 8])"
            ]
          },
          "metadata": {},
          "execution_count": 20
        }
      ]
    },
    {
      "cell_type": "code",
      "source": [
        "np.arange(1,9,2)"
      ],
      "metadata": {
        "colab": {
          "base_uri": "https://localhost:8080/"
        },
        "id": "R6VwwXynHq42",
        "outputId": "2382d3c7-119c-4fc8-b504-69f91ccd2bc2"
      },
      "execution_count": 21,
      "outputs": [
        {
          "output_type": "execute_result",
          "data": {
            "text/plain": [
              "array([1, 3, 5, 7])"
            ]
          },
          "metadata": {},
          "execution_count": 21
        }
      ]
    },
    {
      "cell_type": "code",
      "source": [
        "np.linspace(1,9,5)"
      ],
      "metadata": {
        "colab": {
          "base_uri": "https://localhost:8080/"
        },
        "id": "iALKPWw_H3oU",
        "outputId": "3b07f17a-7537-40a3-f29c-22580b5eae74"
      },
      "execution_count": 23,
      "outputs": [
        {
          "output_type": "execute_result",
          "data": {
            "text/plain": [
              "array([1., 3., 5., 7., 9.])"
            ]
          },
          "metadata": {},
          "execution_count": 23
        }
      ]
    },
    {
      "cell_type": "markdown",
      "source": [
        "Difference between the shallow copy and deep copy in numpy"
      ],
      "metadata": {
        "id": "5QhaUc0KIoSd"
      }
    },
    {
      "cell_type": "code",
      "source": [
        "arr2"
      ],
      "metadata": {
        "colab": {
          "base_uri": "https://localhost:8080/"
        },
        "id": "f-FqfN-pIFCV",
        "outputId": "c27ad20b-ca42-40f6-8298-9764775ee3f2"
      },
      "execution_count": 24,
      "outputs": [
        {
          "output_type": "execute_result",
          "data": {
            "text/plain": [
              "array([[1, 3],\n",
              "       [4, 7]])"
            ]
          },
          "metadata": {},
          "execution_count": 24
        }
      ]
    },
    {
      "cell_type": "code",
      "source": [
        "shallowArr = arr2"
      ],
      "metadata": {
        "id": "SE4jgwFBIz3K"
      },
      "execution_count": 25,
      "outputs": []
    },
    {
      "cell_type": "code",
      "source": [
        "deepArr = np.copy(arr2)"
      ],
      "metadata": {
        "id": "nESf9HlgI6y4"
      },
      "execution_count": 26,
      "outputs": []
    },
    {
      "cell_type": "code",
      "source": [
        "arr2[0][0] = 5\n",
        "arr2"
      ],
      "metadata": {
        "colab": {
          "base_uri": "https://localhost:8080/"
        },
        "id": "D4u3HdwUJEdZ",
        "outputId": "440b6901-0f14-4f1c-d85f-fbf0f2c4630c"
      },
      "execution_count": 27,
      "outputs": [
        {
          "output_type": "execute_result",
          "data": {
            "text/plain": [
              "array([[5, 3],\n",
              "       [4, 7]])"
            ]
          },
          "metadata": {},
          "execution_count": 27
        }
      ]
    },
    {
      "cell_type": "code",
      "source": [
        "shallowArr"
      ],
      "metadata": {
        "colab": {
          "base_uri": "https://localhost:8080/"
        },
        "id": "9iQNvV5YJJ6h",
        "outputId": "7540053b-0cce-4495-9014-192d60d01b3e"
      },
      "execution_count": 28,
      "outputs": [
        {
          "output_type": "execute_result",
          "data": {
            "text/plain": [
              "array([[5, 3],\n",
              "       [4, 7]])"
            ]
          },
          "metadata": {},
          "execution_count": 28
        }
      ]
    },
    {
      "cell_type": "code",
      "source": [
        "deepArr"
      ],
      "metadata": {
        "colab": {
          "base_uri": "https://localhost:8080/"
        },
        "id": "F2uYABDAJTkO",
        "outputId": "2611f549-9e35-4bce-9389-8ea00e4f0899"
      },
      "execution_count": 29,
      "outputs": [
        {
          "output_type": "execute_result",
          "data": {
            "text/plain": [
              "array([[1, 3],\n",
              "       [4, 7]])"
            ]
          },
          "metadata": {},
          "execution_count": 29
        }
      ]
    },
    {
      "cell_type": "markdown",
      "source": [
        "fromfunction in numpy"
      ],
      "metadata": {
        "id": "1aCw6c0kJvoy"
      }
    },
    {
      "cell_type": "code",
      "source": [
        "np.fromfunction(lambda i,j:i*j, (4,4))"
      ],
      "metadata": {
        "colab": {
          "base_uri": "https://localhost:8080/"
        },
        "id": "AW0Q5nkDJV_m",
        "outputId": "685a5565-d376-4e60-be6e-f88dd3ed06d0"
      },
      "execution_count": 30,
      "outputs": [
        {
          "output_type": "execute_result",
          "data": {
            "text/plain": [
              "array([[0., 0., 0., 0.],\n",
              "       [0., 1., 2., 3.],\n",
              "       [0., 2., 4., 6.],\n",
              "       [0., 3., 6., 9.]])"
            ]
          },
          "metadata": {},
          "execution_count": 30
        }
      ]
    },
    {
      "cell_type": "code",
      "source": [
        "np.fromfunction(lambda i,j:i+j, (4,4))"
      ],
      "metadata": {
        "colab": {
          "base_uri": "https://localhost:8080/"
        },
        "id": "aFGyZQe3KLXK",
        "outputId": "a2db1068-73b1-4826-c400-fa6c95dd8a6f"
      },
      "execution_count": 31,
      "outputs": [
        {
          "output_type": "execute_result",
          "data": {
            "text/plain": [
              "array([[0., 1., 2., 3.],\n",
              "       [1., 2., 3., 4.],\n",
              "       [2., 3., 4., 5.],\n",
              "       [3., 4., 5., 6.]])"
            ]
          },
          "metadata": {},
          "execution_count": 31
        }
      ]
    },
    {
      "cell_type": "code",
      "source": [
        "np.fromfunction(lambda i,j:i==j, (4,4))"
      ],
      "metadata": {
        "colab": {
          "base_uri": "https://localhost:8080/"
        },
        "id": "XrCRR4NvKhIC",
        "outputId": "1f949a5c-8068-40af-aadb-bb91d88ac625"
      },
      "execution_count": 32,
      "outputs": [
        {
          "output_type": "execute_result",
          "data": {
            "text/plain": [
              "array([[ True, False, False, False],\n",
              "       [False,  True, False, False],\n",
              "       [False, False,  True, False],\n",
              "       [False, False, False,  True]])"
            ]
          },
          "metadata": {},
          "execution_count": 32
        }
      ]
    },
    {
      "cell_type": "markdown",
      "source": [
        "To create an identity matrix"
      ],
      "metadata": {
        "id": "unQ-RNsFLJ2q"
      }
    },
    {
      "cell_type": "code",
      "source": [
        "np.eye(4)"
      ],
      "metadata": {
        "colab": {
          "base_uri": "https://localhost:8080/"
        },
        "id": "q8F8EM6MKm3h",
        "outputId": "7df1575f-6ffc-4406-b698-9e57e061e8d6"
      },
      "execution_count": 33,
      "outputs": [
        {
          "output_type": "execute_result",
          "data": {
            "text/plain": [
              "array([[1., 0., 0., 0.],\n",
              "       [0., 1., 0., 0.],\n",
              "       [0., 0., 1., 0.],\n",
              "       [0., 0., 0., 1.]])"
            ]
          },
          "metadata": {},
          "execution_count": 33
        }
      ]
    },
    {
      "cell_type": "markdown",
      "source": [
        "Reshape function in numpy"
      ],
      "metadata": {
        "id": "bJGtev1pLnWv"
      }
    },
    {
      "cell_type": "code",
      "source": [
        "dataset = np.linspace(2,9,50)"
      ],
      "metadata": {
        "id": "8cXPE_HnLZFp"
      },
      "execution_count": 34,
      "outputs": []
    },
    {
      "cell_type": "code",
      "source": [
        "dataset"
      ],
      "metadata": {
        "colab": {
          "base_uri": "https://localhost:8080/"
        },
        "id": "NQ5mo-rqME7I",
        "outputId": "cd0f1587-020c-4df5-90e5-cd54603c7d10"
      },
      "execution_count": 35,
      "outputs": [
        {
          "output_type": "execute_result",
          "data": {
            "text/plain": [
              "array([2.        , 2.14285714, 2.28571429, 2.42857143, 2.57142857,\n",
              "       2.71428571, 2.85714286, 3.        , 3.14285714, 3.28571429,\n",
              "       3.42857143, 3.57142857, 3.71428571, 3.85714286, 4.        ,\n",
              "       4.14285714, 4.28571429, 4.42857143, 4.57142857, 4.71428571,\n",
              "       4.85714286, 5.        , 5.14285714, 5.28571429, 5.42857143,\n",
              "       5.57142857, 5.71428571, 5.85714286, 6.        , 6.14285714,\n",
              "       6.28571429, 6.42857143, 6.57142857, 6.71428571, 6.85714286,\n",
              "       7.        , 7.14285714, 7.28571429, 7.42857143, 7.57142857,\n",
              "       7.71428571, 7.85714286, 8.        , 8.14285714, 8.28571429,\n",
              "       8.42857143, 8.57142857, 8.71428571, 8.85714286, 9.        ])"
            ]
          },
          "metadata": {},
          "execution_count": 35
        }
      ]
    },
    {
      "cell_type": "code",
      "source": [
        "dataset.shape"
      ],
      "metadata": {
        "colab": {
          "base_uri": "https://localhost:8080/"
        },
        "id": "RxnZyMz3MFyH",
        "outputId": "21cae827-60f1-48c7-dbd3-afa47dc059f0"
      },
      "execution_count": 37,
      "outputs": [
        {
          "output_type": "execute_result",
          "data": {
            "text/plain": [
              "(50,)"
            ]
          },
          "metadata": {},
          "execution_count": 37
        }
      ]
    },
    {
      "cell_type": "code",
      "source": [
        "dataset.reshape(2,1,25)"
      ],
      "metadata": {
        "colab": {
          "base_uri": "https://localhost:8080/"
        },
        "id": "UyMRXZupMJS4",
        "outputId": "b742c53d-42df-4f07-9436-32c262ebe3e5"
      },
      "execution_count": 38,
      "outputs": [
        {
          "output_type": "execute_result",
          "data": {
            "text/plain": [
              "array([[[2.        , 2.14285714, 2.28571429, 2.42857143, 2.57142857,\n",
              "         2.71428571, 2.85714286, 3.        , 3.14285714, 3.28571429,\n",
              "         3.42857143, 3.57142857, 3.71428571, 3.85714286, 4.        ,\n",
              "         4.14285714, 4.28571429, 4.42857143, 4.57142857, 4.71428571,\n",
              "         4.85714286, 5.        , 5.14285714, 5.28571429, 5.42857143]],\n",
              "\n",
              "       [[5.57142857, 5.71428571, 5.85714286, 6.        , 6.14285714,\n",
              "         6.28571429, 6.42857143, 6.57142857, 6.71428571, 6.85714286,\n",
              "         7.        , 7.14285714, 7.28571429, 7.42857143, 7.57142857,\n",
              "         7.71428571, 7.85714286, 8.        , 8.14285714, 8.28571429,\n",
              "         8.42857143, 8.57142857, 8.71428571, 8.85714286, 9.        ]]])"
            ]
          },
          "metadata": {},
          "execution_count": 38
        }
      ]
    },
    {
      "cell_type": "code",
      "source": [
        "dataset.reshape(2,1,25)"
      ],
      "metadata": {
        "colab": {
          "base_uri": "https://localhost:8080/"
        },
        "id": "MciNfQ9VMbFZ",
        "outputId": "0a2c02b1-ad67-43bc-b751-88ce5bd85b71"
      },
      "execution_count": 40,
      "outputs": [
        {
          "output_type": "execute_result",
          "data": {
            "text/plain": [
              "array([[[2.        , 2.14285714, 2.28571429, 2.42857143, 2.57142857,\n",
              "         2.71428571, 2.85714286, 3.        , 3.14285714, 3.28571429,\n",
              "         3.42857143, 3.57142857, 3.71428571, 3.85714286, 4.        ,\n",
              "         4.14285714, 4.28571429, 4.42857143, 4.57142857, 4.71428571,\n",
              "         4.85714286, 5.        , 5.14285714, 5.28571429, 5.42857143]],\n",
              "\n",
              "       [[5.57142857, 5.71428571, 5.85714286, 6.        , 6.14285714,\n",
              "         6.28571429, 6.42857143, 6.57142857, 6.71428571, 6.85714286,\n",
              "         7.        , 7.14285714, 7.28571429, 7.42857143, 7.57142857,\n",
              "         7.71428571, 7.85714286, 8.        , 8.14285714, 8.28571429,\n",
              "         8.42857143, 8.57142857, 8.71428571, 8.85714286, 9.        ]]])"
            ]
          },
          "metadata": {},
          "execution_count": 40
        }
      ]
    },
    {
      "cell_type": "code",
      "source": [],
      "metadata": {
        "id": "_gb7CsCVM6-Y"
      },
      "execution_count": null,
      "outputs": []
    }
  ]
}