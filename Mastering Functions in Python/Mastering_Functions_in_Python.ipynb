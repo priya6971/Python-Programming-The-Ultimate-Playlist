{
  "nbformat": 4,
  "nbformat_minor": 0,
  "metadata": {
    "colab": {
      "provenance": []
    },
    "kernelspec": {
      "name": "python3",
      "display_name": "Python 3"
    },
    "language_info": {
      "name": "python"
    }
  },
  "cells": [
    {
      "cell_type": "code",
      "execution_count": 3,
      "metadata": {
        "id": "MF3D6O4boVA7",
        "colab": {
          "base_uri": "https://localhost:8080/"
        },
        "outputId": "98dddd0c-c126-44e6-98de-1c1f51dde4c1"
      },
      "outputs": [
        {
          "output_type": "stream",
          "name": "stdout",
          "text": [
            "[1, 6, 7, 5, 3]\n"
          ]
        }
      ],
      "source": [
        "## function definition\n",
        "## approach: Two Pointers Approach\n",
        "## time complexity: O(n)\n",
        "## space complexity: O(1)\n",
        "\n",
        "def reverse(list1):\n",
        "  low, high = 0, len(list1) - 1\n",
        "  while low < high:\n",
        "    ## 1. swap list[low] with list1[high]\n",
        "    list1[low], list1[high] = list1[high], list1[low]\n",
        "    ## 2. increment the value of low\n",
        "    low += 1\n",
        "    ## 3. decrement the value of high\n",
        "    high -= 1\n",
        "  return list1\n",
        "\n",
        "\n",
        "## Driver code\n",
        "list1 = [2, 5, 7, 12, 10]\n",
        "list2 = [3, 5, 7, 6, 1]\n",
        "## function calling\n",
        "## application: reuse the logic of reversal in any of the given list entered by the user\n",
        "print(reverse(list2))"
      ]
    },
    {
      "cell_type": "markdown",
      "source": [
        "**Practice Problems**\n",
        "\n",
        "\n",
        "*   Create a function that accepts a list of numbers and returns the sum of all the even numbers in a list.\n",
        "\n",
        "list1 = [2, 5, 8, 9]\n",
        "\n",
        "output = 2 + 8 = 10\n",
        "\n",
        "*   Create a function to calculate the fibonacci sequence.\n",
        "\n",
        "fib(5) = 5\n",
        "\n",
        "fib(0) = 0\n",
        "\n",
        "fib(1) = 1\n",
        "\n",
        "fib(2) = 1\n",
        "\n",
        "fib(3) = 2\n",
        "\n",
        "fib(4) = 3\n",
        "\n",
        "fib(5) = 5\n"
      ],
      "metadata": {
        "id": "_E_GIi1Nv6OD"
      }
    },
    {
      "cell_type": "code",
      "source": [],
      "metadata": {
        "id": "knGgFrar7s6b"
      },
      "execution_count": null,
      "outputs": []
    }
  ]
}