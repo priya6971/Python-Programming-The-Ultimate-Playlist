{
  "nbformat": 4,
  "nbformat_minor": 0,
  "metadata": {
    "colab": {
      "provenance": []
    },
    "kernelspec": {
      "name": "python3",
      "display_name": "Python 3"
    },
    "language_info": {
      "name": "python"
    }
  },
  "cells": [
    {
      "cell_type": "markdown",
      "source": [
        "1. What is the difference between tuple and list."
      ],
      "metadata": {
        "id": "MTD9_iCcz5bp"
      }
    },
    {
      "cell_type": "markdown",
      "source": [
        "\n",
        "\n",
        "1.   Tuple is immutable(cannot change) whereas list is mutable(change)\n",
        "2.   Tuple is much faster as comprable to list\n",
        "3.   Tuple () whereas list []\n",
        "\n"
      ],
      "metadata": {
        "id": "pc3xVbLI0tQ9"
      }
    },
    {
      "cell_type": "code",
      "source": [
        "tuple1 = (1, 2, 5, 6)\n",
        "list1 = [2, 5, 7, 12]"
      ],
      "metadata": {
        "id": "WoML4ly0oZ6K"
      },
      "execution_count": 12,
      "outputs": []
    },
    {
      "cell_type": "code",
      "source": [
        "type(tuple1)"
      ],
      "metadata": {
        "colab": {
          "base_uri": "https://localhost:8080/"
        },
        "id": "ZoWEnJl51yht",
        "outputId": "3cb6775a-057c-4f5e-b34a-3c86a4877823"
      },
      "execution_count": 13,
      "outputs": [
        {
          "output_type": "execute_result",
          "data": {
            "text/plain": [
              "tuple"
            ]
          },
          "metadata": {},
          "execution_count": 13
        }
      ]
    },
    {
      "cell_type": "code",
      "source": [
        "type(list1)"
      ],
      "metadata": {
        "colab": {
          "base_uri": "https://localhost:8080/"
        },
        "id": "PTc6D7ZZ10Te",
        "outputId": "22e3c410-dfd5-440d-f455-5eebb726bbda"
      },
      "execution_count": 14,
      "outputs": [
        {
          "output_type": "execute_result",
          "data": {
            "text/plain": [
              "list"
            ]
          },
          "metadata": {},
          "execution_count": 14
        }
      ]
    },
    {
      "cell_type": "markdown",
      "source": [
        "2. Given a list of numbers containing the duplicates, remove the duplicate elements from the list."
      ],
      "metadata": {
        "id": "JS2Fov2G143b"
      }
    },
    {
      "cell_type": "code",
      "source": [
        "list2 = [1, 2, 4, 2, 5, 7, 5, 8, 12, 7]\n",
        "## expected output = [1, 2, 4, 5, 7, 8, 12]\n",
        "\n",
        "def remove_duplicates(list2):\n",
        "  return list(set(list2))\n",
        "\n",
        "print(remove_duplicates(list2))"
      ],
      "metadata": {
        "colab": {
          "base_uri": "https://localhost:8080/"
        },
        "id": "ygYMsFK011pN",
        "outputId": "653b358e-3a4a-4f33-ceb9-e3ec07adeb93"
      },
      "execution_count": 15,
      "outputs": [
        {
          "output_type": "stream",
          "name": "stdout",
          "text": [
            "[1, 2, 4, 5, 7, 8, 12]\n"
          ]
        }
      ]
    },
    {
      "cell_type": "markdown",
      "source": [
        "3. Given a string, reverse it."
      ],
      "metadata": {
        "id": "l2Ce0YeE3TzL"
      }
    },
    {
      "cell_type": "code",
      "source": [
        "s1 = \"Priya\"\n",
        "## expected output = \"ayirP\"\n",
        "\n",
        "def reverse_string(s1):\n",
        "  return s1[::-1]\n",
        "\n",
        "print(reverse_string(s1))"
      ],
      "metadata": {
        "colab": {
          "base_uri": "https://localhost:8080/"
        },
        "id": "nD_VhEjZ2Zq7",
        "outputId": "2741216a-416c-4046-ce19-363c00b5ac04"
      },
      "execution_count": 16,
      "outputs": [
        {
          "output_type": "stream",
          "name": "stdout",
          "text": [
            "ayirP\n"
          ]
        }
      ]
    },
    {
      "cell_type": "markdown",
      "source": [
        "4. Given a string, check whether the string is palindromic or not."
      ],
      "metadata": {
        "id": "vH0G5EKI3-5a"
      }
    },
    {
      "cell_type": "code",
      "source": [
        "s1 = \"mommy\"\n",
        "\n",
        "def palidromic_string(s1):\n",
        "  return s1 == s1[::-1]\n",
        "\n",
        "print(palidromic_string(s1))"
      ],
      "metadata": {
        "colab": {
          "base_uri": "https://localhost:8080/"
        },
        "id": "jss6Ohea38K-",
        "outputId": "fc42368c-5fa6-4200-d257-e59a66a766af"
      },
      "execution_count": 18,
      "outputs": [
        {
          "output_type": "stream",
          "name": "stdout",
          "text": [
            "False\n"
          ]
        }
      ]
    },
    {
      "cell_type": "markdown",
      "source": [
        "5. Difference between shallow copy and deep copy"
      ],
      "metadata": {
        "id": "usFzFxYC4zdD"
      }
    },
    {
      "cell_type": "code",
      "source": [
        "## shallow copy\n",
        "import copy\n",
        "list1 = [[1, 2, 3], [4, 5, 6]]\n",
        "list2 = copy.copy(list1)\n",
        "list2[0][2] = 10\n",
        "print(list1)"
      ],
      "metadata": {
        "colab": {
          "base_uri": "https://localhost:8080/"
        },
        "id": "1bnbdQTd4pQ8",
        "outputId": "8957b97e-6e4f-4cf8-a38d-13e432b4a5ce"
      },
      "execution_count": 19,
      "outputs": [
        {
          "output_type": "stream",
          "name": "stdout",
          "text": [
            "[[1, 2, 10], [4, 5, 6]]\n"
          ]
        }
      ]
    },
    {
      "cell_type": "code",
      "source": [
        "## deep copy\n",
        "list3 = copy.deepcopy(list1)\n",
        "list3[0][1] = 20\n",
        "print(list1)"
      ],
      "metadata": {
        "colab": {
          "base_uri": "https://localhost:8080/"
        },
        "id": "1-fcpx3W5oIk",
        "outputId": "fc7274c3-a771-4aaf-dec9-3d249d0fb76e"
      },
      "execution_count": 20,
      "outputs": [
        {
          "output_type": "stream",
          "name": "stdout",
          "text": [
            "[[1, 2, 10], [4, 5, 6]]\n"
          ]
        }
      ]
    },
    {
      "cell_type": "markdown",
      "source": [
        "6. How do you handle exceptions in Python?"
      ],
      "metadata": {
        "id": "3MBJ-DDK6Wld"
      }
    },
    {
      "cell_type": "code",
      "source": [
        "try:\n",
        "  x = 1/0\n",
        "except ZeroDivisionError:\n",
        "  print(\"U can't divide by Zero\")"
      ],
      "metadata": {
        "colab": {
          "base_uri": "https://localhost:8080/"
        },
        "id": "TABfkXd06LDN",
        "outputId": "36676ea8-8053-46b0-e865-6183869b8332"
      },
      "execution_count": 21,
      "outputs": [
        {
          "output_type": "stream",
          "name": "stdout",
          "text": [
            "U can't divide by Zero\n"
          ]
        }
      ]
    },
    {
      "cell_type": "markdown",
      "source": [
        "7. What is lambda functions in Python"
      ],
      "metadata": {
        "id": "-5wdqqgI7CBp"
      }
    },
    {
      "cell_type": "code",
      "source": [
        "add = lambda a, b:a+b\n",
        "print(add(2,3))"
      ],
      "metadata": {
        "colab": {
          "base_uri": "https://localhost:8080/"
        },
        "id": "6maeC_1a6uKi",
        "outputId": "8601aa03-361f-4bfa-8f48-41bee4040e5f"
      },
      "execution_count": 23,
      "outputs": [
        {
          "output_type": "stream",
          "name": "stdout",
          "text": [
            "5\n"
          ]
        }
      ]
    },
    {
      "cell_type": "markdown",
      "source": [
        "8. What is list comprehension in Python"
      ],
      "metadata": {
        "id": "s5C8_9hA7hTN"
      }
    },
    {
      "cell_type": "code",
      "source": [
        "## Given a list, give me the squares of every element available in the list\n",
        "squares = [x**2 for x in range(10)]\n",
        "print(squares)"
      ],
      "metadata": {
        "colab": {
          "base_uri": "https://localhost:8080/"
        },
        "id": "3RtdIkKT7dL8",
        "outputId": "1d18f662-7063-4236-b42b-a52f24cbf2d2"
      },
      "execution_count": 24,
      "outputs": [
        {
          "output_type": "stream",
          "name": "stdout",
          "text": [
            "[0, 1, 4, 9, 16, 25, 36, 49, 64, 81]\n"
          ]
        }
      ]
    },
    {
      "cell_type": "code",
      "source": [
        "range(10)"
      ],
      "metadata": {
        "colab": {
          "base_uri": "https://localhost:8080/"
        },
        "id": "TGNGqNKF8Kq8",
        "outputId": "1abe07ad-e58b-4413-9a6e-adaa7673b64d"
      },
      "execution_count": 25,
      "outputs": [
        {
          "output_type": "execute_result",
          "data": {
            "text/plain": [
              "range(0, 10)"
            ]
          },
          "metadata": {},
          "execution_count": 25
        }
      ]
    },
    {
      "cell_type": "markdown",
      "source": [
        "9. Count the number of times a particular character appears in a string"
      ],
      "metadata": {
        "id": "IpdsPnCc8Wyf"
      }
    },
    {
      "cell_type": "code",
      "source": [
        "str1 = \"priyabhatia\"\n",
        "## Given a string, count how many times a character appears in a given string\n",
        "def count_char(str1, char):\n",
        "  return str1.count(char)\n",
        "\n",
        "print(count_char(str1, \"a\"))"
      ],
      "metadata": {
        "colab": {
          "base_uri": "https://localhost:8080/"
        },
        "id": "WwfNQUcQ8Opz",
        "outputId": "711d26bb-ae49-423e-fbc5-1c73d8ca5399"
      },
      "execution_count": 26,
      "outputs": [
        {
          "output_type": "stream",
          "name": "stdout",
          "text": [
            "3\n"
          ]
        }
      ]
    },
    {
      "cell_type": "markdown",
      "source": [
        "10. Given two sorted list, merge both of them and create another sorted list."
      ],
      "metadata": {
        "id": "0G35ZQxK89PF"
      }
    },
    {
      "cell_type": "code",
      "source": [
        "## list1 = [1, 3, 7]\n",
        "## list2 = [2, 5, 6]\n",
        "## expected output = [1, 2, 3, 5, 6, 7]\n",
        "## write your own code\n",
        "## approach 1: sorted(list1 + list2)\n",
        "## approch 2: mergeProcedure - mergeSort{DSA using Python}"
      ],
      "metadata": {
        "id": "O_UxMmjI83xr"
      },
      "execution_count": null,
      "outputs": []
    }
  ]
}