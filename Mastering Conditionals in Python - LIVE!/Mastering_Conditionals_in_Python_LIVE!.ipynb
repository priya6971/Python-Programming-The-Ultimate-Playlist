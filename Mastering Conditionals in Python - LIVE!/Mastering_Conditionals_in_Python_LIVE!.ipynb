{
  "nbformat": 4,
  "nbformat_minor": 0,
  "metadata": {
    "colab": {
      "provenance": []
    },
    "kernelspec": {
      "name": "python3",
      "display_name": "Python 3"
    },
    "language_info": {
      "name": "python"
    }
  },
  "cells": [
    {
      "cell_type": "markdown",
      "source": [
        "1. How to take input from the user - input()\n",
        "2. By default, it will take str as the input datatype"
      ],
      "metadata": {
        "id": "cGLTK1KpKFXC"
      }
    },
    {
      "cell_type": "code",
      "source": [
        "percentage = input()"
      ],
      "metadata": {
        "colab": {
          "base_uri": "https://localhost:8080/"
        },
        "id": "ZB9GCXLzJjUw",
        "outputId": "e1597ac7-640a-4123-cdbc-1d1d92e7bb85"
      },
      "execution_count": 1,
      "outputs": [
        {
          "name": "stdout",
          "output_type": "stream",
          "text": [
            "87\n"
          ]
        }
      ]
    },
    {
      "cell_type": "code",
      "source": [
        "type(percentage)"
      ],
      "metadata": {
        "colab": {
          "base_uri": "https://localhost:8080/"
        },
        "id": "mFsVsGJyJz7i",
        "outputId": "c8f13c14-8bb1-4e37-da2b-c0f85f673c07"
      },
      "execution_count": 2,
      "outputs": [
        {
          "output_type": "execute_result",
          "data": {
            "text/plain": [
              "str"
            ]
          },
          "metadata": {},
          "execution_count": 2
        }
      ]
    },
    {
      "cell_type": "markdown",
      "source": [
        "**Typecasting - conversion of str type to the float data type**"
      ],
      "metadata": {
        "id": "xRAoUxQzKXCn"
      }
    },
    {
      "cell_type": "markdown",
      "source": [
        "**Conditional Statements**"
      ],
      "metadata": {
        "id": "xIX62F_lLJmM"
      }
    },
    {
      "cell_type": "code",
      "execution_count": 4,
      "metadata": {
        "colab": {
          "base_uri": "https://localhost:8080/"
        },
        "id": "FhgqZ3o0FMiQ",
        "outputId": "f949ce94-acf9-4992-8d4f-5e60885e6688"
      },
      "outputs": [
        {
          "output_type": "stream",
          "name": "stdout",
          "text": [
            "Enter your percentage: 86\n",
            "Sorry, you didn't met the selection criteria\n"
          ]
        }
      ],
      "source": [
        "iit_shortlist_percentage = 90.0\n",
        "candidate_percentage = float(input(\"Enter your percentage: \"))\n",
        "\n",
        "if candidate_percentage >= iit_shortlist_percentage:\n",
        "  print(\"Congratulations! You are selected to an IIT college\")\n",
        "else:\n",
        "  print(\"Sorry, you didn't met the selection criteria\")"
      ]
    },
    {
      "cell_type": "code",
      "source": [
        "iit_shortlist_percentage = 90.0\n",
        "candidate_percentage = float(input(\"Enter your percentage: \"))\n",
        "\n",
        "if candidate_percentage >= iit_shortlist_percentage:\n",
        "  print(\"Congratulations! You are selected to an IIT college\")\n",
        "elif candidate_percentage < iit_shortlist_percentage and candidate_percentage > 88:\n",
        "  print(\"You are in the waiting list\")\n",
        "else:\n",
        "  print(\"Sorry, you didn't met the selection criteria\")"
      ],
      "metadata": {
        "colab": {
          "base_uri": "https://localhost:8080/"
        },
        "id": "xT1qFd_8LPyQ",
        "outputId": "d95a1596-eda0-4528-e837-cc75f8d4e383"
      },
      "execution_count": 7,
      "outputs": [
        {
          "output_type": "stream",
          "name": "stdout",
          "text": [
            "Enter your percentage: 98\n",
            "Congratulations! You are selected to an IIT college\n"
          ]
        }
      ]
    },
    {
      "cell_type": "markdown",
      "source": [
        "**Movie Ticket Pricing**"
      ],
      "metadata": {
        "id": "3oisCWbyOquz"
      }
    },
    {
      "cell_type": "code",
      "source": [
        "age = int(input(\"Enter your age: \"))\n",
        "day = input(\"Is it a weekday or weekend? \").lower()\n",
        "\n",
        "if age < 5:\n",
        "  price = 0\n",
        "elif age <= 12:\n",
        "  price = 100\n",
        "elif age >= 65:\n",
        "  price = 80\n",
        "else:\n",
        "  price = 200\n",
        "\n",
        "## apply surplus charge for the weekend\n",
        "if day == \"weekend\":\n",
        "  price += 200\n",
        "\n",
        "print(\"Movie ticket price\", price, \"INR\")"
      ],
      "metadata": {
        "colab": {
          "base_uri": "https://localhost:8080/"
        },
        "id": "QZ3bZ3rqMdA5",
        "outputId": "83920e11-451b-47a0-c020-5a0d658ddfcb"
      },
      "execution_count": 9,
      "outputs": [
        {
          "output_type": "stream",
          "name": "stdout",
          "text": [
            "Enter your age: 80\n",
            "Is it a weekday or weekend? weekday\n",
            "Movie ticket price 80 INR\n"
          ]
        }
      ]
    },
    {
      "cell_type": "markdown",
      "source": [
        "Practice Problems:\n",
        "\n",
        "\n",
        "1.  Check whether a string is a palindromic string or not\n",
        "for example: 'mom' - true, otherwise false\n",
        "\n",
        "2.  Check whether the character entered by the user is a vowel or a consonant\n",
        "'a' - this char is a vowel\n",
        "'z' - this is a consonant\n",
        "\n"
      ],
      "metadata": {
        "id": "MSyc23zgQ8rN"
      }
    },
    {
      "cell_type": "code",
      "source": [],
      "metadata": {
        "id": "4UUpibn_QAq4"
      },
      "execution_count": null,
      "outputs": []
    }
  ]
}