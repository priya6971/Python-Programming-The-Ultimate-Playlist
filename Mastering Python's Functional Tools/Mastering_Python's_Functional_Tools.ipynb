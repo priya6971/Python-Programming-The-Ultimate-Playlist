{
  "nbformat": 4,
  "nbformat_minor": 0,
  "metadata": {
    "colab": {
      "provenance": []
    },
    "kernelspec": {
      "name": "python3",
      "display_name": "Python 3"
    },
    "language_info": {
      "name": "python"
    }
  },
  "cells": [
    {
      "cell_type": "markdown",
      "source": [
        "Implement a function where the result is the cube of a given number"
      ],
      "metadata": {
        "id": "Maz_zU15KfmM"
      }
    },
    {
      "cell_type": "code",
      "execution_count": 1,
      "metadata": {
        "colab": {
          "base_uri": "https://localhost:8080/"
        },
        "id": "wGhasdRUB9Lb",
        "outputId": "d8ad8cbb-e294-4a7e-9e01-373d2f3cb298"
      },
      "outputs": [
        {
          "output_type": "stream",
          "name": "stdout",
          "text": [
            "27\n"
          ]
        }
      ],
      "source": [
        "def cube(x):\n",
        "  return x*x*x\n",
        "\n",
        "print(cube(3))"
      ]
    },
    {
      "cell_type": "markdown",
      "source": [
        "Lambda Functions - Anonymous Functions that can be used to define a single line of code."
      ],
      "metadata": {
        "id": "numL_Yf-K4hF"
      }
    },
    {
      "cell_type": "code",
      "source": [
        "lambda_cube = lambda x:x*x*x\n",
        "\n",
        "lambda_cube(3)"
      ],
      "metadata": {
        "colab": {
          "base_uri": "https://localhost:8080/"
        },
        "id": "Yy9fadRzKrny",
        "outputId": "d5580667-2463-459d-be4f-3e4523172317"
      },
      "execution_count": 2,
      "outputs": [
        {
          "output_type": "execute_result",
          "data": {
            "text/plain": [
              "27"
            ]
          },
          "metadata": {},
          "execution_count": 2
        }
      ]
    },
    {
      "cell_type": "markdown",
      "source": [
        "**Implement a code that adds two numbers**"
      ],
      "metadata": {
        "id": "mnBePDeLLddN"
      }
    },
    {
      "cell_type": "code",
      "source": [
        "lambda_sum = lambda x,y:x+y\n",
        "\n",
        "lambda_sum(2,3)"
      ],
      "metadata": {
        "colab": {
          "base_uri": "https://localhost:8080/"
        },
        "id": "pkuIc-_jLKdh",
        "outputId": "212f8dbe-f157-42d1-b1a8-984a2492439d"
      },
      "execution_count": 3,
      "outputs": [
        {
          "output_type": "execute_result",
          "data": {
            "text/plain": [
              "5"
            ]
          },
          "metadata": {},
          "execution_count": 3
        }
      ]
    },
    {
      "cell_type": "markdown",
      "source": [
        "**Sort a list of dictionaries on the basis of a specific key**"
      ],
      "metadata": {
        "id": "XVVUeeYhMCF9"
      }
    },
    {
      "cell_type": "code",
      "source": [
        "employee_records = [{'name':'John', 'age':29, 'occupation':'engineer'},\n",
        "                    {'name':'Vikash', 'age':25, 'occupation':'doctor'},\n",
        "                    {'name':'Nikhil', 'age':25, 'occupation':'engineer'},\n",
        "                    {'name':'Teja', 'age':23, 'occupation':'data scientist'},\n",
        "                    {'name':'Priya', 'age':25, 'occupation':'engineer'},]"
      ],
      "metadata": {
        "id": "wBH4snr0LvqK"
      },
      "execution_count": 6,
      "outputs": []
    },
    {
      "cell_type": "markdown",
      "source": [
        "**Sort the data on the basis of the key value as age**"
      ],
      "metadata": {
        "id": "awZCP2OTNc7T"
      }
    },
    {
      "cell_type": "code",
      "source": [
        "sorted(employee_records, key=lambda x:x['age'])"
      ],
      "metadata": {
        "colab": {
          "base_uri": "https://localhost:8080/"
        },
        "id": "RG8-5Qp9Mr6e",
        "outputId": "1c0302f1-397a-4a25-e481-998d73f7200b"
      },
      "execution_count": 7,
      "outputs": [
        {
          "output_type": "execute_result",
          "data": {
            "text/plain": [
              "[{'name': 'Teja', 'age': 23, 'occupation': 'data scientist'},\n",
              " {'name': 'Vikash', 'age': 25, 'occupation': 'doctor'},\n",
              " {'name': 'Nikhil', 'age': 25, 'occupation': 'engineer'},\n",
              " {'name': 'Priya', 'age': 25, 'occupation': 'engineer'},\n",
              " {'name': 'John', 'age': 29, 'occupation': 'engineer'}]"
            ]
          },
          "metadata": {},
          "execution_count": 7
        }
      ]
    },
    {
      "cell_type": "markdown",
      "source": [
        "**Sort the data on the basis of key value as age, name**"
      ],
      "metadata": {
        "id": "gbTqbnmSNhWL"
      }
    },
    {
      "cell_type": "code",
      "source": [
        "sorted(employee_records, key=lambda x:(x['age'], x['name']))"
      ],
      "metadata": {
        "colab": {
          "base_uri": "https://localhost:8080/"
        },
        "id": "dLdIz88MM7-W",
        "outputId": "85455f45-d9da-4c6a-f766-324425bbf7a6"
      },
      "execution_count": 8,
      "outputs": [
        {
          "output_type": "execute_result",
          "data": {
            "text/plain": [
              "[{'name': 'Teja', 'age': 23, 'occupation': 'data scientist'},\n",
              " {'name': 'Nikhil', 'age': 25, 'occupation': 'engineer'},\n",
              " {'name': 'Priya', 'age': 25, 'occupation': 'engineer'},\n",
              " {'name': 'Vikash', 'age': 25, 'occupation': 'doctor'},\n",
              " {'name': 'John', 'age': 29, 'occupation': 'engineer'}]"
            ]
          },
          "metadata": {},
          "execution_count": 8
        }
      ]
    },
    {
      "cell_type": "markdown",
      "source": [
        "**Implement a function which results the square of every number available in the list**"
      ],
      "metadata": {
        "id": "pG4KSGoxO6Ws"
      }
    },
    {
      "cell_type": "code",
      "source": [
        "l1 = [2, 4, 5, 7, 9]\n",
        "newl1 = []\n",
        "\n",
        "for ele in l1:\n",
        "  newl1.append(ele**2)\n",
        "print(newl1)"
      ],
      "metadata": {
        "colab": {
          "base_uri": "https://localhost:8080/"
        },
        "id": "FY4LoDWfNxR3",
        "outputId": "8ac70028-41f4-4c14-fb65-18eda4a62e4b"
      },
      "execution_count": 9,
      "outputs": [
        {
          "output_type": "stream",
          "name": "stdout",
          "text": [
            "[4, 16, 25, 49, 81]\n"
          ]
        }
      ]
    },
    {
      "cell_type": "markdown",
      "source": [
        "Map Function - Scan the entire list and corresponding to every element available in the list, you are looking for some kind of output."
      ],
      "metadata": {
        "id": "I5XL2DdAQ_SE"
      }
    },
    {
      "cell_type": "code",
      "source": [
        "l2 = list(map(lambda l1:l1**2, l1))\n",
        "print(l2)"
      ],
      "metadata": {
        "colab": {
          "base_uri": "https://localhost:8080/"
        },
        "id": "ceHwSVxrPP-E",
        "outputId": "caa7be82-c436-4b77-ae53-d88fcb475ad5"
      },
      "execution_count": 10,
      "outputs": [
        {
          "output_type": "stream",
          "name": "stdout",
          "text": [
            "[4, 16, 25, 49, 81]\n"
          ]
        }
      ]
    },
    {
      "cell_type": "code",
      "source": [
        "map(lambda l1:l1**2, l1)"
      ],
      "metadata": {
        "colab": {
          "base_uri": "https://localhost:8080/"
        },
        "id": "BV35TP8rPygV",
        "outputId": "a323bf7b-faee-4023-b911-9a01f9796268"
      },
      "execution_count": 11,
      "outputs": [
        {
          "output_type": "execute_result",
          "data": {
            "text/plain": [
              "<map at 0x7da307da2680>"
            ]
          },
          "metadata": {},
          "execution_count": 11
        }
      ]
    },
    {
      "cell_type": "code",
      "source": [
        "x1 = lambda l1:l1**2\n",
        "x1(2)"
      ],
      "metadata": {
        "colab": {
          "base_uri": "https://localhost:8080/"
        },
        "id": "b4Je7fZgQLX1",
        "outputId": "9a002361-938b-4d64-be41-7ef8e48e3787"
      },
      "execution_count": 14,
      "outputs": [
        {
          "output_type": "execute_result",
          "data": {
            "text/plain": [
              "4"
            ]
          },
          "metadata": {},
          "execution_count": 14
        }
      ]
    },
    {
      "cell_type": "code",
      "source": [
        "## l1 = [2, 5, 7, 9]\n",
        "## l2 = [2, 7]\n",
        "\n",
        "## common/intersection values of both l1 and l2\n",
        "## output = [2, 7]"
      ],
      "metadata": {
        "id": "BWSwhgGXQVeW"
      },
      "execution_count": null,
      "outputs": []
    },
    {
      "cell_type": "markdown",
      "source": [
        "**Filter: Given a list, return the even elements available in the list.**\n",
        "\n",
        "Subset of the given list by having some sort of constraints."
      ],
      "metadata": {
        "id": "pdubx9VMRfaU"
      }
    },
    {
      "cell_type": "code",
      "source": [
        "l3 = [2, 3, 5, 7, 9, 11, 12, 16]\n",
        "l4 = list(filter(lambda x:x%2 == 0, l3))\n",
        "print(l4)"
      ],
      "metadata": {
        "colab": {
          "base_uri": "https://localhost:8080/"
        },
        "id": "AnBp6i_ZRfJ6",
        "outputId": "388510ab-8d34-43a6-ea15-1d536c6b2625"
      },
      "execution_count": 15,
      "outputs": [
        {
          "output_type": "stream",
          "name": "stdout",
          "text": [
            "[2, 12, 16]\n"
          ]
        }
      ]
    },
    {
      "cell_type": "code",
      "source": [
        "filter(lambda x:x%2 == 0, l3)"
      ],
      "metadata": {
        "colab": {
          "base_uri": "https://localhost:8080/"
        },
        "id": "6zwuBXvWVXY4",
        "outputId": "e104561c-d044-4258-a5f1-df775d132fde"
      },
      "execution_count": 17,
      "outputs": [
        {
          "output_type": "execute_result",
          "data": {
            "text/plain": [
              "<filter at 0x7da307da39d0>"
            ]
          },
          "metadata": {},
          "execution_count": 17
        }
      ]
    },
    {
      "cell_type": "markdown",
      "source": [
        "Reduce: Given a list, return the sum of the entire list.\n",
        "\n",
        "Single output - reduce function"
      ],
      "metadata": {
        "id": "-6GJvCF9S2w2"
      }
    },
    {
      "cell_type": "code",
      "source": [
        "from functools import reduce\n",
        "sum_list = reduce(lambda x,y:x+y, l3)\n",
        "print(sum_list)"
      ],
      "metadata": {
        "colab": {
          "base_uri": "https://localhost:8080/"
        },
        "id": "NRE0-RlwSYAS",
        "outputId": "fa0985fb-ea55-41b3-e114-281bf724b206"
      },
      "execution_count": 16,
      "outputs": [
        {
          "output_type": "stream",
          "name": "stdout",
          "text": [
            "65\n"
          ]
        }
      ]
    },
    {
      "cell_type": "code",
      "source": [],
      "metadata": {
        "id": "xlk6unUwTakR"
      },
      "execution_count": null,
      "outputs": []
    }
  ]
}