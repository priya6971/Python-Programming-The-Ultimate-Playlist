{
  "nbformat": 4,
  "nbformat_minor": 0,
  "metadata": {
    "colab": {
      "provenance": []
    },
    "kernelspec": {
      "name": "python3",
      "display_name": "Python 3"
    },
    "language_info": {
      "name": "python"
    }
  },
  "cells": [
    {
      "cell_type": "code",
      "source": [
        "a = 6\n",
        "b = 0\n",
        "c = a/b\n",
        "print(c)\n",
        "print(\"Hello World\")"
      ],
      "metadata": {
        "colab": {
          "base_uri": "https://localhost:8080/",
          "height": 250
        },
        "id": "qfIwfOXDkX8u",
        "outputId": "a00d2982-56e0-44e6-9f7e-c19773857671"
      },
      "execution_count": 3,
      "outputs": [
        {
          "output_type": "error",
          "ename": "ZeroDivisionError",
          "evalue": "ignored",
          "traceback": [
            "\u001b[0;31m---------------------------------------------------------------------------\u001b[0m",
            "\u001b[0;31mZeroDivisionError\u001b[0m                         Traceback (most recent call last)",
            "\u001b[0;32m<ipython-input-3-c46174689cd2>\u001b[0m in \u001b[0;36m<cell line: 3>\u001b[0;34m()\u001b[0m\n\u001b[1;32m      1\u001b[0m \u001b[0ma\u001b[0m \u001b[0;34m=\u001b[0m \u001b[0;36m6\u001b[0m\u001b[0;34m\u001b[0m\u001b[0;34m\u001b[0m\u001b[0m\n\u001b[1;32m      2\u001b[0m \u001b[0mb\u001b[0m \u001b[0;34m=\u001b[0m \u001b[0;36m0\u001b[0m\u001b[0;34m\u001b[0m\u001b[0;34m\u001b[0m\u001b[0m\n\u001b[0;32m----> 3\u001b[0;31m \u001b[0mc\u001b[0m \u001b[0;34m=\u001b[0m \u001b[0ma\u001b[0m\u001b[0;34m/\u001b[0m\u001b[0mb\u001b[0m\u001b[0;34m\u001b[0m\u001b[0;34m\u001b[0m\u001b[0m\n\u001b[0m\u001b[1;32m      4\u001b[0m \u001b[0mprint\u001b[0m\u001b[0;34m(\u001b[0m\u001b[0mc\u001b[0m\u001b[0;34m)\u001b[0m\u001b[0;34m\u001b[0m\u001b[0;34m\u001b[0m\u001b[0m\n\u001b[1;32m      5\u001b[0m \u001b[0mprint\u001b[0m\u001b[0;34m(\u001b[0m\u001b[0;34m\"Hello World\"\u001b[0m\u001b[0;34m)\u001b[0m\u001b[0;34m\u001b[0m\u001b[0;34m\u001b[0m\u001b[0m\n",
            "\u001b[0;31mZeroDivisionError\u001b[0m: division by zero"
          ]
        }
      ]
    },
    {
      "cell_type": "code",
      "source": [
        "try :\n",
        "  a = int(input())\n",
        "  b = int(input())\n",
        "  c = a/b\n",
        "  print(c)\n",
        "except:\n",
        "  pass\n",
        "print(\"Hello World\")"
      ],
      "metadata": {
        "colab": {
          "base_uri": "https://localhost:8080/"
        },
        "id": "_Asmg5NqlEDU",
        "outputId": "5be2a836-850d-43c0-a146-5188b82ff4da"
      },
      "execution_count": 5,
      "outputs": [
        {
          "output_type": "stream",
          "name": "stdout",
          "text": [
            "6\n",
            "0\n",
            "Hello World\n"
          ]
        }
      ]
    },
    {
      "cell_type": "code",
      "source": [
        "try :\n",
        "  a = int(input())\n",
        "  b = int(input())\n",
        "  c = a/b\n",
        "  print(c)\n",
        "except ZeroDivisionError as z:\n",
        "  print(z)\n",
        "\n",
        "except ValueError as v:\n",
        "  print(v)\n",
        "print(\"Hello World\")"
      ],
      "metadata": {
        "colab": {
          "base_uri": "https://localhost:8080/"
        },
        "id": "VCX3GDfkmtyr",
        "outputId": "7c1f8138-de2f-4dc1-8662-23b84941cd60"
      },
      "execution_count": 10,
      "outputs": [
        {
          "output_type": "stream",
          "name": "stdout",
          "text": [
            "6\n",
            "0\n",
            "division by zero\n",
            "Hello World\n"
          ]
        }
      ]
    },
    {
      "cell_type": "code",
      "source": [
        "try :\n",
        "  l = [10, 20, 40, 70, 90]\n",
        "  l[10]\n",
        "except Exception as e:\n",
        "  print(e)"
      ],
      "metadata": {
        "colab": {
          "base_uri": "https://localhost:8080/"
        },
        "id": "4M-9G-o-n986",
        "outputId": "9ed9c150-e7f8-4cc7-90a4-94f687fcc5a7"
      },
      "execution_count": 8,
      "outputs": [
        {
          "output_type": "stream",
          "name": "stdout",
          "text": [
            "list index out of range\n"
          ]
        }
      ]
    },
    {
      "cell_type": "code",
      "source": [
        "try :\n",
        "  records = {\"name\":\"Priya\", \"phoneNum\":876902313, \"emailID\":\"priya@gmail.com\"}\n",
        "  records[\"age\"]\n",
        "except Exception as e:\n",
        "  print(e)"
      ],
      "metadata": {
        "colab": {
          "base_uri": "https://localhost:8080/"
        },
        "id": "Ir02TyKcot4J",
        "outputId": "62e09a04-d631-4d1e-805f-4a566a39e07a"
      },
      "execution_count": 9,
      "outputs": [
        {
          "output_type": "stream",
          "name": "stdout",
          "text": [
            "'age'\n"
          ]
        }
      ]
    },
    {
      "cell_type": "code",
      "source": [
        "try :\n",
        "  a = int(input())\n",
        "  b = int(input())\n",
        "  c = a/b\n",
        "  print(c)\n",
        "\n",
        "except Exception as e:\n",
        "  print(e)\n",
        "\n",
        "else:\n",
        "  print(\"It will execute only when your try block will execute successfully\")"
      ],
      "metadata": {
        "colab": {
          "base_uri": "https://localhost:8080/"
        },
        "id": "XAueMalOpZqB",
        "outputId": "f7d9bf44-56a2-42dc-f8b5-3d2afdc35cc9"
      },
      "execution_count": 12,
      "outputs": [
        {
          "output_type": "stream",
          "name": "stdout",
          "text": [
            "6\n",
            "0\n",
            "division by zero\n"
          ]
        }
      ]
    },
    {
      "cell_type": "code",
      "source": [
        "try :\n",
        "  a = int(input())\n",
        "  b = int(input())\n",
        "  c = a/b\n",
        "  print(c)\n",
        "\n",
        "except Exception as e:\n",
        "  print(e)\n",
        "\n",
        "else:\n",
        "  print(\"This block will execute only when your try block will execute successfully\")\n",
        "\n",
        "finally:\n",
        "  print(\"This block will execute always\")"
      ],
      "metadata": {
        "colab": {
          "base_uri": "https://localhost:8080/"
        },
        "id": "pP56rF9YqUtt",
        "outputId": "e52724a6-1b8a-48d1-c46e-2dee67519412"
      },
      "execution_count": 14,
      "outputs": [
        {
          "output_type": "stream",
          "name": "stdout",
          "text": [
            "6\n",
            "0\n",
            "division by zero\n",
            "This block will execute always\n"
          ]
        }
      ]
    },
    {
      "cell_type": "markdown",
      "source": [
        "**Data Preprocessing Phase**"
      ],
      "metadata": {
        "id": "y9JKmt4EsmQG"
      }
    },
    {
      "cell_type": "code",
      "source": [
        "try :\n",
        "  file_path = \"/content/demo.txt\"\n",
        "  f = open(file_path)\n",
        "  f.read()\n",
        "\n",
        "except Exception as e:\n",
        "  print(e)\n",
        "\n",
        "else:\n",
        "  print(\"EDA Stuff\")\n"
      ],
      "metadata": {
        "colab": {
          "base_uri": "https://localhost:8080/"
        },
        "id": "vaWjscsLrL8w",
        "outputId": "9810e826-ceb3-4116-f397-f082ae74ccc0"
      },
      "execution_count": 18,
      "outputs": [
        {
          "output_type": "stream",
          "name": "stdout",
          "text": [
            "EDA Stuff\n"
          ]
        }
      ]
    },
    {
      "cell_type": "code",
      "source": [],
      "metadata": {
        "id": "YQDCe1c8sKgA"
      },
      "execution_count": null,
      "outputs": []
    }
  ]
}