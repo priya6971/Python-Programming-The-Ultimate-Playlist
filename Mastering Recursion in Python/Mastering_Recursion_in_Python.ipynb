{
  "nbformat": 4,
  "nbformat_minor": 0,
  "metadata": {
    "colab": {
      "provenance": []
    },
    "kernelspec": {
      "name": "python3",
      "display_name": "Python 3"
    },
    "language_info": {
      "name": "python"
    }
  },
  "cells": [
    {
      "cell_type": "markdown",
      "source": [
        "Advantage of using Recursion:\n",
        "\n",
        "\n",
        "*   Understanding\n",
        "*   Clarity\n",
        "*   Lesser lines of code(Base case condition and recursive function calls)\n",
        "*   Avoid recusion at the time of overlapping subproblem because it leads to the exponential time complexity at that time, so we can optimize the code via using the dynamic programming approach.\n",
        "\n"
      ],
      "metadata": {
        "id": "e5IBIiNW6vfY"
      }
    },
    {
      "cell_type": "markdown",
      "source": [
        "All the codes available in this file contains recursion only."
      ],
      "metadata": {
        "id": "IGNGjtpXzjP_"
      }
    },
    {
      "cell_type": "markdown",
      "source": [
        "**Factorial of a given number**"
      ],
      "metadata": {
        "id": "uAV8A1Quy6Oq"
      }
    },
    {
      "cell_type": "code",
      "execution_count": 2,
      "metadata": {
        "id": "1PN2ut4v2-BB",
        "colab": {
          "base_uri": "https://localhost:8080/"
        },
        "outputId": "08aa6b01-f466-4c95-edae-c1b3b6a02828"
      },
      "outputs": [
        {
          "output_type": "stream",
          "name": "stdout",
          "text": [
            "479001600\n"
          ]
        }
      ],
      "source": [
        "## function definition\n",
        "def fact(n):\n",
        "  ## 1. Base case condition\n",
        "  if n <= 1:\n",
        "    return 1\n",
        "  ## 2. Recursive function calls\n",
        "  else:\n",
        "    return n * fact(n-1)\n",
        "\n",
        "## Driver code\n",
        "n = 12\n",
        "print(fact(n))"
      ]
    },
    {
      "cell_type": "markdown",
      "source": [
        "**Fibonacci Number in a given series**"
      ],
      "metadata": {
        "id": "VDsodLgN45vR"
      }
    },
    {
      "cell_type": "code",
      "source": [
        "## Method definition\n",
        "def fibonacci(n):\n",
        "  ## 1. Base case condition\n",
        "  if n <= 1:\n",
        "    return n\n",
        "  ## 2. Recursive function call\n",
        "  else:\n",
        "    return fibonacci(n-1) + fibonacci(n-2)\n",
        "\n",
        "## Driver code\n",
        "num = 5\n",
        "print(fibonacci(num))"
      ],
      "metadata": {
        "colab": {
          "base_uri": "https://localhost:8080/"
        },
        "id": "zGVfyZv_zaxv",
        "outputId": "cce01f10-4060-4429-c7c7-afbe02931921"
      },
      "execution_count": 4,
      "outputs": [
        {
          "output_type": "stream",
          "name": "stdout",
          "text": [
            "5\n"
          ]
        }
      ]
    },
    {
      "cell_type": "markdown",
      "source": [
        "Sum of the digits\n",
        "\n",
        "num = 1234\n",
        "\n",
        "output = 1 + 2 + 3 + 4 = 10"
      ],
      "metadata": {
        "id": "4RgYX65O5Um0"
      }
    },
    {
      "cell_type": "code",
      "source": [
        "def sumOfDigits(n):\n",
        "  ## 1. Base case condition\n",
        "  if n < 10:\n",
        "    return n\n",
        "  ## 2. Recursive function call\n",
        "  else:\n",
        "    return ((n % 10) + sumOfDigits(n//10))\n",
        "\n",
        "## Driver code\n",
        "n = 1234\n",
        "print(sumOfDigits(n))\n"
      ],
      "metadata": {
        "colab": {
          "base_uri": "https://localhost:8080/"
        },
        "id": "Ou1v-THq5J2t",
        "outputId": "c911c7ff-8afe-4c53-b95c-a42391cdc254"
      },
      "execution_count": 10,
      "outputs": [
        {
          "output_type": "stream",
          "name": "stdout",
          "text": [
            "10\n"
          ]
        }
      ]
    },
    {
      "cell_type": "code",
      "source": [],
      "metadata": {
        "id": "wEZ6h-G46T6w"
      },
      "execution_count": null,
      "outputs": []
    }
  ]
}